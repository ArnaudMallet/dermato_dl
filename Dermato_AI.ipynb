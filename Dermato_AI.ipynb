{
 "cells": [
  {
   "cell_type": "code",
   "execution_count": 31,
   "metadata": {},
   "outputs": [],
   "source": [
    "#list of Import\n",
    "\n",
    "import os\n",
    "import random\n",
    "import requests\n",
    "import time\n",
    "import ast\n",
    "import numpy as np\n",
    "from glob import glob\n",
    "import cv2                \n",
    "from PIL import Image, ImageFile \n",
    "import time\n",
    "from collections import OrderedDict \n",
    "import csv\n",
    "import pandas as pd\n",
    "import sys\n",
    "import itertools\n",
    "import get_results as results\n",
    "\n",
    "import torch\n",
    "import torchvision\n",
    "from torchvision import datasets\n",
    "import torchvision.transforms as transforms\n",
    "import torch.nn as nn\n",
    "import torch.nn.functional as F\n",
    "import torch.optim as optim\n",
    "from torchvision import models\n",
    "import torchvision.models as models\n",
    "\n",
    "import time\n",
    "\n",
    "import matplotlib.pyplot as plt                        \n",
    "%matplotlib inline\n",
    "\n",
    "ImageFile.LOAD_TRUNCATED_IMAGES = True\n",
    "\n",
    "# check if CUDA is available\n",
    "use_cuda = torch.cuda.is_available()\n",
    "\n",
    "#pip install torchsummary\n",
    "from torchsummary import summary\n",
    "\n",
    "import Helper"
   ]
  },
  {
   "cell_type": "markdown",
   "metadata": {},
   "source": [
    "# Look at an image"
   ]
  },
  {
   "cell_type": "code",
   "execution_count": 32,
   "metadata": {},
   "outputs": [],
   "source": [
    "#from PIL import Image\n",
    "#Image.open(open(\"data/test/melanoma/ISIC_0012258.jpg\", 'rb'))"
   ]
  },
  {
   "cell_type": "markdown",
   "metadata": {},
   "source": [
    "# Explore data"
   ]
  },
  {
   "cell_type": "code",
   "execution_count": 33,
   "metadata": {},
   "outputs": [
    {
     "name": "stdout",
     "output_type": "stream",
     "text": [
      "There are 2750 total images.\n",
      "There are 2000 total train images.\n",
      "There are 150 total validation images.\n",
      "There are 600 total test images.\n"
     ]
    }
   ],
   "source": [
    "# load filenames for human and dog images\n",
    "dataset = np.array(glob(\"data/*/*/*\"))\n",
    "trainset = np.array(glob(\"data/train/*/*\"))\n",
    "validset = np.array(glob(\"data/valid/*/*\"))\n",
    "testset = np.array(glob(\"data/test/*/*\"))\n",
    "# print number of images in each dataset\n",
    "print('There are %d total images.' % len(dataset))\n",
    "print('There are %d total train images.' % len(trainset))\n",
    "print('There are %d total validation images.' % len(validset))\n",
    "print('There are %d total test images.' % len(testset))\n"
   ]
  },
  {
   "cell_type": "markdown",
   "metadata": {},
   "source": [
    "# Data loader\n",
    "\n",
    "We prepare three types of transform based on the type of data we get. We want the training data to be augmented whereas we don't want for the Valid and Test datatsets"
   ]
  },
  {
   "cell_type": "code",
   "execution_count": 34,
   "metadata": {},
   "outputs": [],
   "source": [
    "data_dir = 'data/'\n",
    "\n",
    "train_transforms = transforms.Compose([\n",
    "    transforms.RandomRotation(45),\n",
    "    transforms.RandomResizedCrop(224),\n",
    "    transforms.RandomHorizontalFlip(),\n",
    "    transforms.ToTensor(),\n",
    "    transforms.Normalize([0.485, 0.456, 0.406], \n",
    "                         [0.229, 0.224, 0.225])\n",
    "])\n",
    "\n",
    "valid_transforms = transforms.Compose([                                 \n",
    "    transforms.Resize(256),\n",
    "    transforms.CenterCrop(224),                                                              \n",
    "    transforms.ToTensor(),                                    \n",
    "    transforms.Normalize([0.485, 0.456, 0.406], \n",
    "                         [0.229, 0.224, 0.225])\n",
    "])\n",
    "\n",
    "test_transforms = transforms.Compose([                                 \n",
    "    transforms.Resize(256),\n",
    "    transforms.CenterCrop(224),                                                              \n",
    "    transforms.ToTensor(),                                    \n",
    "    transforms.Normalize([0.485, 0.456, 0.406], \n",
    "                         [0.229, 0.224, 0.225])\n",
    "])\n",
    "\n",
    "image_datasets = {x: datasets.ImageFolder(data_dir + x, transform = train_transforms if x == 'train' else valid_transforms if x == 'valid' else test_transforms) for x in ['train', 'valid', 'test']}\n",
    "\n",
    "loaders_scratch = {x: torch.utils.data.DataLoader(image_datasets[x], batch_size=64, shuffle=True) for x in ['train', 'valid', 'test']}\n"
   ]
  },
  {
   "cell_type": "code",
   "execution_count": 35,
   "metadata": {
    "scrolled": true
   },
   "outputs": [
    {
     "name": "stdout",
     "output_type": "stream",
     "text": [
      "Dataset ImageFolder\n",
      "    Number of datapoints: 600\n",
      "    Root location: data/test\n",
      "    StandardTransform\n",
      "Transform: Compose(\n",
      "               Resize(size=256, interpolation=PIL.Image.BILINEAR)\n",
      "               CenterCrop(size=(224, 224))\n",
      "               ToTensor()\n",
      "               Normalize(mean=[0.485, 0.456, 0.406], std=[0.229, 0.224, 0.225])\n",
      "           )\n"
     ]
    }
   ],
   "source": [
    "print(image_datasets['test'])"
   ]
  },
  {
   "cell_type": "markdown",
   "metadata": {},
   "source": [
    "## Image vizualisation\n"
   ]
  },
  {
   "cell_type": "code",
   "execution_count": 36,
   "metadata": {},
   "outputs": [
    {
     "data": {
      "text/plain": [
       "<matplotlib.axes._subplots.AxesSubplot at 0x22ab047af88>"
      ]
     },
     "execution_count": 36,
     "metadata": {},
     "output_type": "execute_result"
    },
    {
     "data": {
      "image/png": "[encoded data removed]",
      "text/plain": [
       "<Figure size 432x288 with 1 Axes>"
      ]
     },
     "metadata": {
      "needs_background": "light"
     },
     "output_type": "display_data"
    }
   ],
   "source": [
    "# Visualize different training images\n",
    "\n",
    "def imshow(image, ax=None, title=None, normalize=True):\n",
    "  \"\"\"Imshow for Tensor.\"\"\"\n",
    "  if ax is None:\n",
    "    fig, ax = plt.subplots()\n",
    "  image = image.numpy().transpose((1, 2, 0))\n",
    "  \n",
    "  if normalize:\n",
    "    mean = np.array([0.485, 0.456, 0.406])\n",
    "    std = np.array([0.229, 0.224, 0.225])\n",
    "    image = std * image + mean\n",
    "    image = np.clip(image, 0, 1)\n",
    "    \n",
    "  ax.imshow(image)\n",
    "  ax.spines['top'].set_visible(False)\n",
    "  ax.spines['right'].set_visible(False)\n",
    "  ax.spines['left'].set_visible(False)\n",
    "  ax.spines['bottom'].set_visible(False)\n",
    "  ax.tick_params(axis='both', length=0)\n",
    "  ax.set_xticklabels('')\n",
    "  ax.set_yticklabels('')\n",
    "  return ax\n",
    "\n",
    "images, labels = next(iter(loaders_scratch['train']))\n",
    "imshow(images[7])"
   ]
  },
  {
   "cell_type": "markdown",
   "metadata": {},
   "source": [
    "# Build model"
   ]
  },
  {
   "cell_type": "code",
   "execution_count": 37,
   "metadata": {},
   "outputs": [
    {
     "name": "stdout",
     "output_type": "stream",
     "text": [
      "4096\n",
      "1000\n",
      "3\n"
     ]
    }
   ],
   "source": [
    "# Check model for transfer learning\n",
    "\n",
    "model_transfer = models.vgg16(pretrained=True)\n",
    "\n",
    "print(model_transfer.classifier[6].in_features) \n",
    "print(model_transfer.classifier[6].out_features)\n",
    "\n",
    "# Freeze training for all \"features\" layers\n",
    "for param in model_transfer.features.parameters():\n",
    "    param.requires_grad = False\n",
    "    \n",
    "n_inputs = model_transfer.classifier[6].in_features\n",
    "\n",
    "# add last linear layer (n_inputs -> 3 type)\n",
    "# new layers automatically have requires_grad = True\n",
    "last_layer = nn.Linear(n_inputs, 3)\n",
    "\n",
    "model_transfer.classifier[6] = last_layer\n",
    "\n",
    "# check to see that your last layer produces the expected number of outputs\n",
    "print(model_transfer.classifier[6].out_features)\n",
    "\n",
    "if use_cuda:\n",
    "    model_transfer = model_transfer.cuda()"
   ]
  },
  {
   "cell_type": "markdown",
   "metadata": {},
   "source": [
    "# Train Classifier for VGG16"
   ]
  },
  {
   "cell_type": "code",
   "execution_count": 44,
   "metadata": {},
   "outputs": [],
   "source": [
    "def train(n_epochs, loaders, model, optimizer, criterion, use_cuda, save_path):\n",
    "    \"\"\"returns trained model\"\"\"\n",
    "    # initialize tracker for minimum validation loss\n",
    "    start = time.time()\n",
    "    valid_loss_min = np.Inf \n",
    "    \n",
    "    for epoch in range(1, n_epochs+1):\n",
    "        # initialize variables to monitor training and validation loss\n",
    "        train_loss = 0.0\n",
    "        valid_loss = 0.0\n",
    "        \n",
    "        ###################\n",
    "        # train the model #\n",
    "        ###################\n",
    "        model.train()\n",
    "        for batch_idx, (data, target) in enumerate(loaders['train']):\n",
    "            # move to GPU\n",
    "            if use_cuda:\n",
    "                data, target = data.cuda(), target.cuda()\n",
    "            ## find the loss and update the model parameters accordingly\n",
    "            ## record the average training loss, using something like\n",
    "            ## train_loss = train_loss + ((1 / (batch_idx + 1)) * (loss.data - train_loss))\n",
    "            optimizer.zero_grad()\n",
    "            # forward pass: compute predicted outputs by passing inputs to the model\n",
    "            output = model(data)\n",
    "            # calculate the batch loss\n",
    "            loss = criterion(output, target)\n",
    "            # backward pass: compute gradient of the loss with respect to model parameters\n",
    "            loss.backward()\n",
    "            # perform a single optimization step (parameter update)\n",
    "            optimizer.step()\n",
    "            #update training loss\n",
    "            train_loss += loss.item()*data.size(0)\n",
    "            \n",
    "        ######################    \n",
    "        # validate the model #\n",
    "        ######################\n",
    "        model.eval()\n",
    "        for batch_idx, (data, target) in enumerate(loaders['valid']):\n",
    "            # move to GPU\n",
    "            if use_cuda:\n",
    "                data, target = data.cuda(), target.cuda()\n",
    "            ## update the average validation loss\n",
    "            output = model(data)\n",
    "            # calculate the batch loss\n",
    "            loss = criterion(output, target)\n",
    "            # update average validation loss \n",
    "            valid_loss += loss.item()*data.size(0)\n",
    "            \n",
    "        # calculate average losses\n",
    "        train_loss = train_loss/len(loaders['train'].sampler)\n",
    "        valid_loss = valid_loss/len(loaders['valid'].sampler) \n",
    "\n",
    "            \n",
    "        # print training/validation statistics \n",
    "        print('Epoch: {} \\tTraining Loss: {:.6f} \\tValidation Loss: {:.6f} \\tTime: {:.3f}'.format(\n",
    "            epoch, \n",
    "            train_loss,\n",
    "            valid_loss,\n",
    "            time.time() - start\n",
    "            ))\n",
    "        \n",
    "        ## TODO: save the model if validation loss has decreased\n",
    "        if valid_loss <= valid_loss_min and epoch > (n_epochs - 5):\n",
    "            print('Validation loss decreased ({:.6f} --> {:.6f}).  Saving model ...'.format(\n",
    "            valid_loss_min,\n",
    "            valid_loss))\n",
    "            torch.save(model.state_dict(), save_path)\n",
    "            valid_loss_min = valid_loss\n",
    "            \n",
    "    # return trained model\n",
    "    return model"
   ]
  },
  {
   "cell_type": "markdown",
   "metadata": {},
   "source": [
    "## loss function and optim for VGGG16"
   ]
  },
  {
   "cell_type": "code",
   "execution_count": 45,
   "metadata": {},
   "outputs": [],
   "source": [
    "criterion_transfer = nn.CrossEntropyLoss()\n",
    "optimizer_transfer = optim.SGD(model_transfer.classifier.parameters(), lr=0.001)"
   ]
  },
  {
   "cell_type": "code",
   "execution_count": 46,
   "metadata": {},
   "outputs": [
    {
     "name": "stdout",
     "output_type": "stream",
     "text": [
      "Epoch: 1 \tTraining Loss: 0.840640 \tValidation Loss: 1.047850 \tTime: 12947.220\n",
      "Validation loss decreased (inf --> 1.047850).  Saving model ...\n",
      "Epoch: 2 \tTraining Loss: 0.818242 \tValidation Loss: 0.993075 \tTime: 17248.843\n",
      "Validation loss decreased (1.047850 --> 0.993075).  Saving model ...\n",
      "Epoch: 3 \tTraining Loss: 0.808968 \tValidation Loss: 0.956963 \tTime: 21477.326\n",
      "Validation loss decreased (0.993075 --> 0.956963).  Saving model ...\n"
     ]
    }
   ],
   "source": [
    "# train the model\n",
    "n_epochs = 3\n",
    "\n",
    "loaders_transfer = loaders_scratch\n",
    "\n",
    "model_transfer =  train(n_epochs, \n",
    "                        loaders_transfer, \n",
    "                        model_transfer, \n",
    "                        optimizer_transfer, \n",
    "                        criterion_transfer, \n",
    "                        use_cuda, \n",
    "                        'model_transfer.pt')"
   ]
  },
  {
   "cell_type": "code",
   "execution_count": null,
   "metadata": {},
   "outputs": [],
   "source": [
    "# load the model that got the best validation accuracy (uncomment the line below)\n",
    "model_transfer.load_state_dict(torch.load('model_transfer.pt'))\n"
   ]
  },
  {
   "cell_type": "code",
   "execution_count": null,
   "metadata": {
    "scrolled": true
   },
   "outputs": [],
   "source": [
    "summary(model_transfer,input_size=(3, 224, 224))"
   ]
  },
  {
   "cell_type": "code",
   "execution_count": null,
   "metadata": {},
   "outputs": [],
   "source": [
    "def test(loaders, model, criterion, use_cuda):\n",
    "\n",
    "    # monitor test loss and accuracy\n",
    "    test_loss = 0.\n",
    "    correct = 0.\n",
    "    total = 0.\n",
    "\n",
    "    model.eval()\n",
    "    for batch_idx, (data, target) in enumerate(loaders['test']):\n",
    "        # move to GPU\n",
    "        if use_cuda:\n",
    "            data, target = data.cuda(), target.cuda()\n",
    "        # forward pass: compute predicted outputs by passing inputs to the model\n",
    "        output = model(data)\n",
    "        # calculate the loss\n",
    "        loss = criterion(output, target)\n",
    "        # update average test loss \n",
    "        test_loss = test_loss + ((1 / (batch_idx + 1)) * (loss.data - test_loss))\n",
    "        # convert output probabilities to predicted class\n",
    "        pred = output.data.max(1, keepdim=True)[1]\n",
    "        # compare predictions to true label\n",
    "        correct += np.sum(np.squeeze(pred.eq(target.data.view_as(pred))).cpu().numpy())\n",
    "        total += data.size(0)\n",
    "            \n",
    "    print('Test Loss: {:.6f}\\n'.format(test_loss))\n",
    "\n",
    "    print('\\nTest Accuracy: %2d%% (%2d/%2d)' % (\n",
    "        100. * correct / total, correct, total))"
   ]
  },
  {
   "cell_type": "code",
   "execution_count": null,
   "metadata": {},
   "outputs": [],
   "source": [
    "test(loaders_scratch, model_transfer, criterion_transfer, use_cuda)"
   ]
  },
  {
   "cell_type": "code",
   "execution_count": null,
   "metadata": {},
   "outputs": [],
   "source": [
    "class_names = [item.replace(\"_\", \" \") for item in image_datasets['train'].classes]\n",
    "\n",
    "def mole_id(img_path):\n",
    "    # load the image and return the predicted breed\n",
    "    #image_tensor = image_to_tensor(img_path)\n",
    "    \n",
    "    img = Image.open(img_path).convert('RGB')\n",
    "    transformations = transforms.Compose([transforms.Resize(size=224),\n",
    "                                          transforms.CenterCrop((224,224)),\n",
    "                                         transforms.ToTensor(),\n",
    "                                         transforms.Normalize(mean=[0.485, 0.456, 0.406],\n",
    "                                                              std=[0.229, 0.224, 0.225])])\n",
    "    image_tensor = transformations(img)[:3,:,:].unsqueeze(0)\n",
    "    \n",
    "    if use_cuda:\n",
    "        image_tensor = image_tensor.cuda()\n",
    "\n",
    "    # get sample result\n",
    "    result = model_transfer(image_tensor)\n",
    "    # convert output probabilities to predicted class\n",
    "    _, preds_tensor = torch.max(result, 1)\n",
    "    pred = np.squeeze(preds_tensor.numpy()) if not use_cuda else np.squeeze(preds_tensor.cpu().numpy())\n",
    "    \n",
    "    return class_names[pred]"
   ]
  },
  {
   "cell_type": "code",
   "execution_count": null,
   "metadata": {},
   "outputs": [],
   "source": [
    "img_path = \"test/test.jpg\"\n",
    "\n",
    "print(mole_id(img_path))\n",
    "#image = Image.open(img_path)\n",
    "img = Image.open(img_path).convert('RGB')\n",
    "transformations = transforms.Compose([transforms.Resize(size=224), transforms.CenterCrop((224,224))])\n",
    "image = transformations(img)\n",
    "plt.imshow(image)\n",
    "plt.show()"
   ]
  },
  {
   "cell_type": "code",
   "execution_count": null,
   "metadata": {},
   "outputs": [],
   "source": [
    "img_path = \"data/test/melanoma/ISIC_0013472.jpg\"\n",
    "\n",
    "print(mole_id(img_path))\n",
    "#image = Image.open(img_path)\n",
    "img = Image.open(img_path).convert('RGB')\n",
    "transformations = transforms.Compose([transforms.Resize(size=224), transforms.CenterCrop((224,224))])\n",
    "image = transformations(img)\n",
    "plt.imshow(image)\n",
    "plt.show()"
   ]
  },
  {
   "cell_type": "code",
   "execution_count": null,
   "metadata": {
    "scrolled": false
   },
   "outputs": [],
   "source": [
    "img_path = \"test/test2_2.jpg\"\n",
    "\n",
    "print(mole_id(img_path))\n",
    "#image = Image.open(img_path)\n",
    "img = Image.open(img_path).convert('RGB')\n",
    "transformations = transforms.Compose([transforms.Resize(size=224), transforms.CenterCrop((224,224))])\n",
    "image = transformations(img)\n",
    "plt.imshow(image)\n",
    "plt.show()"
   ]
  },
  {
   "cell_type": "markdown",
   "metadata": {},
   "source": [
    "## Test on the whole melanoma test database - no need to run until improved model\n"
   ]
  },
  {
   "cell_type": "code",
   "execution_count": null,
   "metadata": {},
   "outputs": [],
   "source": [
    "res = 0\n",
    "x = 0\n",
    "for x in range(len(testset)):\n",
    "    \n",
    "    if mole_id(testset[x]) == \"Melanoma\":\n",
    "        res += 1\n",
    "        \n",
    "print(res)"
   ]
  },
  {
   "cell_type": "markdown",
   "metadata": {},
   "source": [
    "# Evaluate model\n",
    "\n",
    "The model is ranked according to three separate categories:\n",
    "\n",
    "- Category 1 (Score 1): ROC AUC for melanoma classification.\n",
    "\n",
    "    This is the ability to distiguish between malignant melanoma and the benign skin lesions (nevus, seborrheic keratosis) by calculating the area under the receiver operating characteristic curve (ROC AUC)[https://scikit-learn.org/stable/modules/generated/sklearn.metrics.roc_auc_score.html] corresponding to this binary classification task.\n",
    "\n",
    "- Category 2 (Score 2): ROC AUC for melanocytic classification:\n",
    "\n",
    "    All of the skin lesions that we will examine are caused by abnormal growth of either melanocytes or keratinocytes, which are two different types of epidermal skin cells. Melanomas and nevi are derived from melanocytes, whereas seborrheic keratoses are derived from keratinocytes. The second caterory tests the ability to distinguish between melanocytic and keratinocytic skin lesions.\n",
    "\n",
    "- Category 3 (Score 3): Mean ROC AUC:\n",
    "\n",
    "    This catefory take the average of the ROC AUC values from the first two categories."
   ]
  },
  {
   "cell_type": "markdown",
   "metadata": {},
   "source": [
    "# load the model"
   ]
  },
  {
   "cell_type": "code",
   "execution_count": null,
   "metadata": {
    "scrolled": true
   },
   "outputs": [],
   "source": [
    "state_dict = torch.load('model_transfer.pt')\n",
    "model_transfer.load_state_dict(state_dict)"
   ]
  },
  {
   "cell_type": "markdown",
   "metadata": {},
   "source": [
    "## Get predictions"
   ]
  },
  {
   "cell_type": "code",
   "execution_count": null,
   "metadata": {},
   "outputs": [],
   "source": [
    "#img_paths = [line.rstrip('\\n') for line in open('paths.txt')] \n",
    "\n",
    "#print(len(img_paths))"
   ]
  },
  {
   "cell_type": "code",
   "execution_count": null,
   "metadata": {},
   "outputs": [],
   "source": [
    "img_paths = [line.rstrip('\\n') for line in testset]\n",
    "\n",
    "print(len(img_paths))"
   ]
  },
  {
   "cell_type": "code",
   "execution_count": null,
   "metadata": {
    "scrolled": true
   },
   "outputs": [],
   "source": [
    "print(img_paths[0])"
   ]
  },
  {
   "cell_type": "code",
   "execution_count": null,
   "metadata": {},
   "outputs": [],
   "source": [
    "print(\"first five: \", img_paths[:5], \"\\nMiddle five: \", img_paths[300:305], \"\\nLast five: \", img_paths[-5:])"
   ]
  },
  {
   "cell_type": "code",
   "execution_count": null,
   "metadata": {
    "scrolled": true
   },
   "outputs": [],
   "source": [
    "def load_image(path):\n",
    "  image = Image.open(path)\n",
    "  image = test_transforms(image)\n",
    "  image = torch.tensor(image, requires_grad=True)\n",
    "  image = image.unsqueeze(0)\n",
    "  return image\n",
    "\n",
    "def get_predictions(img_paths):\n",
    "  \"\"\" Is melanoma? \"\"\"\n",
    "  pred_rank1 = [] # Is melanoma?\n",
    "  pred_rank2 = [] # Is seborrheic?\n",
    "  for img_path in img_paths:\n",
    "    img = load_image(img_path)\n",
    "    #img.to(device)\n",
    "    prediction = model_transfer(img)\n",
    "    #img.to(\"cpu\")\n",
    "    pred_rank1.append(float(prediction.data[0][0]))\n",
    "    pred_rank2.append(float(prediction.data[0][2]))\n",
    "  return pred_rank1, pred_rank2\n",
    "\n",
    "#model.to(\"cpu\")\n",
    "#model.eval()\n",
    "print(\"\")"
   ]
  },
  {
   "cell_type": "code",
   "execution_count": null,
   "metadata": {
    "scrolled": false
   },
   "outputs": [],
   "source": [
    "task1, task2 = get_predictions(img_paths)"
   ]
  },
  {
   "cell_type": "code",
   "execution_count": null,
   "metadata": {},
   "outputs": [],
   "source": [
    "print(\"Task 1 predictions: \", len(task1))\n",
    "print(\"first five predictions (Task 1): \", task1[:5])\n",
    "\n",
    "print(\"Task 2 predictions: \", len(task2))\n",
    "print(\"first five predictions (Task 2): \", task2[:5])"
   ]
  },
  {
   "cell_type": "code",
   "execution_count": null,
   "metadata": {},
   "outputs": [],
   "source": [
    "with open('results.csv', 'w', newline='') as csvfile:\n",
    "  doc = csv.writer(csvfile)\n",
    "  doc.writerow(['Id', 'task_1', 'task_2'])\n",
    "  for i in range(len(img_paths)):\n",
    "    doc.writerow([img_paths[i], task1[i], task2[i]])\n"
   ]
  },
  {
   "cell_type": "code",
   "execution_count": null,
   "metadata": {},
   "outputs": [],
   "source": [
    "from sklearn.metrics import roc_curve, auc, confusion_matrix\n",
    "threshold = 0.5 \n",
    "\n",
    "# get ground truth labels for test dataset\n",
    "truth = pd.read_csv('ground_truth.csv')\n",
    "y_true = truth.as_matrix(columns=[\"task_1\", \"task_2\"])\n",
    "\n",
    "# get model predictions for test dataset\n",
    "y_pred = pd.read_csv('results.csv')\n",
    "y_pred = y_pred.as_matrix(columns=[\"task_1\", \"task_2\"])\n",
    "\n",
    "# plot ROC curves and print scores\n",
    "results.plot_roc_auc(y_true, y_pred)\n",
    "# plot confusion matrix\n",
    "classes = ['benign', 'malignant']\n",
    "results.plot_confusion_matrix(y_true[:,0], y_pred[:,0], threshold, classes)"
   ]
  },
  {
   "cell_type": "code",
   "execution_count": null,
   "metadata": {},
   "outputs": [],
   "source": []
  }
 ],
 "metadata": {
  "kernelspec": {
   "display_name": "Python 3",
   "language": "python",
   "name": "python3"
  },
  "language_info": {
   "codemirror_mode": {
    "name": "ipython",
    "version": 3
   },
   "file_extension": ".py",
   "mimetype": "text/x-python",
   "name": "python",
   "nbconvert_exporter": "python",
   "pygments_lexer": "ipython3",
   "version": "3.7.4"
  }
 },
 "nbformat": 4,
 "nbformat_minor": 2
}
